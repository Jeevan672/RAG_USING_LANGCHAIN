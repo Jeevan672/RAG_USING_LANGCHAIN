{
 "cells": [
  {
   "cell_type": "code",
   "execution_count": 1,
   "id": "6e9c2b3d-1df9-4278-a217-65ba135f2b14",
   "metadata": {},
   "outputs": [],
   "source": [
    "import os\n",
    "import openai\n",
    "import sys\n",
    "from config import set_environment\n",
    "set_environment\n",
    "OPENAI_API_KEY=\"sk-r5WiHoHJBDbj\"\n",
    "os.environ[\"OPEN_API_KEY\"]=OPENAI_API_KEY\n",
    "openai.api_key=os.environ['OPEN_API_KEY']"
   ]
  },
  {
   "cell_type": "code",
   "execution_count": null,
   "id": "6d613494-c7e3-4743-8833-7ad64d2f6f21",
   "metadata": {},
   "outputs": [],
   "source": []
  },
  {
   "cell_type": "markdown",
   "id": "71178613-fb70-4d57-a995-3c2b5c0e4b1e",
   "metadata": {},
   "source": [
    "# Note  I'm using here Wandb(weights & biases)\n",
    "\n",
    "if you want you can use Langsmith too"
   ]
  },
  {
   "cell_type": "code",
   "execution_count": 2,
   "id": "bf7478c6-b94c-47cb-a006-d2f9608e7ac9",
   "metadata": {},
   "outputs": [],
   "source": [
    "import wandb"
   ]
  },
  {
   "cell_type": "code",
   "execution_count": null,
   "id": "ae87e395-32e3-4cf8-ae54-1eb52f662e03",
   "metadata": {},
   "outputs": [],
   "source": [
    "!wandb login 94bd863cc6cf0 #(use your API Key)"
   ]
  },
  {
   "cell_type": "code",
   "execution_count": null,
   "id": "4732e11a-57b0-44d1-a59b-c5844b3b7075",
   "metadata": {},
   "outputs": [],
   "source": [
    "os.environ[\"WANDB_PROJECT\"]=\"chat_bot\"\n",
    "os.environ[\"WANDB_LOG_MODEL\"]=\"true\"\n",
    "os.environ[\"WANDB_WATCH\"]=\"true\""
   ]
  },
  {
   "cell_type": "code",
   "execution_count": 3,
   "id": "e712f331-c9e2-47f2-b887-49b0b67c557b",
   "metadata": {},
   "outputs": [
    {
     "name": "stderr",
     "output_type": "stream",
     "text": [
      "C:\\Users\\Jeevan Reddy\\Anaconda\\myenv\\Lib\\site-packages\\langchain_core\\_api\\deprecation.py:117: LangChainDeprecationWarning: The class `langchain_community.embeddings.openai.OpenAIEmbeddings` was deprecated in langchain-community 0.1.0 and will be removed in 0.2.0. An updated version of the class exists in the langchain-openai package and should be used instead. To use it run `pip install -U langchain-openai` and import as `from langchain_openai import OpenAIEmbeddings`.\n",
      "  warn_deprecated(\n"
     ]
    }
   ],
   "source": [
    "from langchain.vectorstores import Chroma\n",
    "from langchain.embeddings.openai import OpenAIEmbeddings\n",
    "persist_directory='docs_1/chroma/'\n",
    "embedding=OpenAIEmbeddings(openai_api_key=OPENAI_API_KEY)\n",
    "vectordb=Chroma(persist_directory=persist_directory,embedding_function=embedding)"
   ]
  },
  {
   "cell_type": "code",
   "execution_count": 4,
   "id": "e802dc51-4183-451f-90d9-a00d098cf56b",
   "metadata": {},
   "outputs": [
    {
     "data": {
      "text/plain": [
       "3"
      ]
     },
     "execution_count": 4,
     "metadata": {},
     "output_type": "execute_result"
    }
   ],
   "source": [
    "q=\"what is the Worldwide Smartphone Shipment Forecast\"\n",
    "docs=vectordb.similarity_search(q,k=3)\n",
    "len(docs)"
   ]
  },
  {
   "cell_type": "code",
   "execution_count": 5,
   "id": "bca9c81a-1ae7-4997-84b3-5bc17456697e",
   "metadata": {},
   "outputs": [
    {
     "name": "stderr",
     "output_type": "stream",
     "text": [
      "C:\\Users\\Jeevan Reddy\\Anaconda\\myenv\\Lib\\site-packages\\langchain_core\\_api\\deprecation.py:117: LangChainDeprecationWarning: The class `langchain_community.chat_models.openai.ChatOpenAI` was deprecated in langchain-community 0.0.10 and will be removed in 0.2.0. An updated version of the class exists in the langchain-openai package and should be used instead. To use it run `pip install -U langchain-openai` and import as `from langchain_openai import ChatOpenAI`.\n",
      "  warn_deprecated(\n",
      "C:\\Users\\Jeevan Reddy\\Anaconda\\myenv\\Lib\\site-packages\\langchain_core\\_api\\deprecation.py:117: LangChainDeprecationWarning: The function `predict` was deprecated in LangChain 0.1.7 and will be removed in 0.2.0. Use invoke instead.\n",
      "  warn_deprecated(\n"
     ]
    },
    {
     "data": {
      "text/plain": [
       "'Hello! How can I assist you today?'"
      ]
     },
     "execution_count": 5,
     "metadata": {},
     "output_type": "execute_result"
    }
   ],
   "source": [
    "from langchain.chat_models import ChatOpenAI\n",
    "llm=ChatOpenAI(openai_api_key=os.environ[\"OPEN_API_KEY\"],model_name=\"gpt-3.5-turbo\",temperature=0)\n",
    "llm.predict(\"Hello world\")"
   ]
  },
  {
   "cell_type": "code",
   "execution_count": 6,
   "id": "21efb427-c36c-459d-ae24-7fe8e5c1eefe",
   "metadata": {},
   "outputs": [
    {
     "name": "stderr",
     "output_type": "stream",
     "text": [
      "C:\\Users\\Jeevan Reddy\\Anaconda\\myenv\\Lib\\site-packages\\langchain_core\\_api\\deprecation.py:117: LangChainDeprecationWarning: The function `__call__` was deprecated in LangChain 0.1.0 and will be removed in 0.2.0. Use invoke instead.\n",
      "  warn_deprecated(\n"
     ]
    },
    {
     "data": {
      "text/plain": [
       "'The worldwide smartphone shipment forecast is expected to reach 1.54 billion units in 2025 with a compound annual growth rate (CAGR) of 3.9% from 2020 to 2025. Thanks for asking!'"
      ]
     },
     "execution_count": 6,
     "metadata": {},
     "output_type": "execute_result"
    }
   ],
   "source": [
    "from langchain.prompts import PromptTemplate\n",
    "template=\"\"\"Use the following pieces of context to answer the question at the end. If you don't know the answer, just say that you don't know, don't try to make up an answer. Use three sentences maximum. Keep the answer as concise as possible. Always say \"thanks for asking!\" at the end of the answer. \n",
    "{context}\n",
    "Question:{question}\n",
    "Helpful Answer:\"\"\"\n",
    "QA_CHAIN_PROMPT=PromptTemplate(input_variables=[\"context\",\"Question\"],template=template)\n",
    "\n",
    "#run chain\n",
    "from langchain.chains import RetrievalQA\n",
    "qa_chain=RetrievalQA.from_chain_type(llm,\n",
    "                                     retriever=vectordb.as_retriever(),\n",
    "                                     return_source_documents=True,\n",
    "                                     chain_type_kwargs={\"prompt\": QA_CHAIN_PROMPT})\n",
    "result=qa_chain({\"query\":q})\n",
    "result[\"result\"]"
   ]
  },
  {
   "cell_type": "code",
   "execution_count": 7,
   "id": "0e31e3ef-9956-48c7-90bc-55fabd5ee812",
   "metadata": {},
   "outputs": [],
   "source": [
    "from langchain.memory import ConversationBufferMemory\n",
    "memory=ConversationBufferMemory(\n",
    "    memory_key=\"chat_history\",\n",
    "    return_messages=True\n",
    ")"
   ]
  },
  {
   "cell_type": "code",
   "execution_count": 8,
   "id": "3f9c32fa-7e1d-4a6d-baa9-9dcbd1bd8379",
   "metadata": {},
   "outputs": [],
   "source": [
    "from langchain.chains import ConversationalRetrievalChain\n",
    "retriever=vectordb.as_retriever()\n",
    "qa=ConversationalRetrievalChain.from_llm(\n",
    "    llm,\n",
    "    retriever=retriever,\n",
    "    memory=memory)"
   ]
  },
  {
   "cell_type": "code",
   "execution_count": 9,
   "id": "f1a71172-7175-4b59-9e90-3f85641fa0e6",
   "metadata": {},
   "outputs": [
    {
     "data": {
      "text/plain": [
       "'According to the information provided, the brand preferences for secondhand smartphones in India are as follows:\\n\\n1. Xiaomi\\n2. Samsung\\n3. Vivo\\n4. Realme\\n5. OPPO\\n6. Apple\\n7. OnePlus\\n8. Lenovo\\n9. Others\\n\\nPlease note that these preferences are based on the data from IDC and may vary over time.'"
      ]
     },
     "execution_count": 9,
     "metadata": {},
     "output_type": "execute_result"
    }
   ],
   "source": [
    "q1=\"what are the Secondhand Smartphone Brands Preference\"\n",
    "result=qa({\"question\":q1})\n",
    "result[\"answer\"]"
   ]
  },
  {
   "cell_type": "code",
   "execution_count": 10,
   "id": "2a3e2a81-ccb1-4c16-9366-43f5916cba65",
   "metadata": {},
   "outputs": [
    {
     "data": {
      "text/plain": [
       "'The top preference for secondhand smartphones in India is Xiaomi.'"
      ]
     },
     "execution_count": 10,
     "metadata": {},
     "output_type": "execute_result"
    }
   ],
   "source": [
    "q2=\"what is the top brand\"\n",
    "result=qa({\"question\":q2})\n",
    "result[\"answer\"]"
   ]
  },
  {
   "cell_type": "code",
   "execution_count": 13,
   "id": "c4cdeaf9-d882-425f-8f7f-294cc2876923",
   "metadata": {},
   "outputs": [],
   "source": []
  },
  {
   "cell_type": "code",
   "execution_count": 16,
   "id": "1a44ba21-9b3e-4963-ac02-e81feea7803b",
   "metadata": {},
   "outputs": [
    {
     "name": "stderr",
     "output_type": "stream",
     "text": [
      "wandb: Appending key for api.wandb.ai to your netrc file: C:\\Users\\Jeevan Reddy\\.netrc\n"
     ]
    }
   ],
   "source": []
  },
  {
   "cell_type": "code",
   "execution_count": 17,
   "id": "2fba0cb6-39b3-4ae7-8650-8af50c76c6fe",
   "metadata": {},
   "outputs": [],
   "source": []
  },
  {
   "cell_type": "code",
   "execution_count": 18,
   "id": "9c224c7e-bd7c-4564-bd59-1a78e761a7ae",
   "metadata": {},
   "outputs": [],
   "source": []
  },
  {
   "cell_type": "code",
   "execution_count": 19,
   "id": "e5927660-d672-4d99-a43e-1778cf176cf5",
   "metadata": {},
   "outputs": [],
   "source": []
  },
  {
   "cell_type": "code",
   "execution_count": 11,
   "id": "28e07a34-ab47-43ed-9096-4ed472968a86",
   "metadata": {},
   "outputs": [],
   "source": [
    "from langchain.embeddings.openai import OpenAIEmbeddings\n",
    "from langchain.text_splitter import CharacterTextSplitter, RecursiveCharacterTextSplitter\n",
    "from langchain.vectorstores import DocArrayInMemorySearch\n",
    "from langchain.document_loaders import TextLoader\n",
    "from langchain.chains import RetrievalQA,  ConversationalRetrievalChain\n",
    "from langchain.memory import ConversationBufferMemory\n",
    "from langchain.chat_models import ChatOpenAI\n",
    "from langchain.document_loaders import TextLoader\n",
    "from langchain.document_loaders import PyPDFLoader"
   ]
  },
  {
   "cell_type": "code",
   "execution_count": null,
   "id": "30a12671-8b2f-492d-9657-ece7ded766b0",
   "metadata": {},
   "outputs": [],
   "source": []
  },
  {
   "cell_type": "code",
   "execution_count": null,
   "id": "81b8a61d-7bd0-40f1-981a-8b0f61e99346",
   "metadata": {},
   "outputs": [],
   "source": []
  }
 ],
 "metadata": {
  "kernelspec": {
   "display_name": "Python 3 (ipykernel)",
   "language": "python",
   "name": "python3"
  },
  "language_info": {
   "codemirror_mode": {
    "name": "ipython",
    "version": 3
   },
   "file_extension": ".py",
   "mimetype": "text/x-python",
   "name": "python",
   "nbconvert_exporter": "python",
   "pygments_lexer": "ipython3",
   "version": "3.11.5"
  }
 },
 "nbformat": 4,
 "nbformat_minor": 5
}
